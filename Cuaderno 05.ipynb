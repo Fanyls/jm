{
 "cells": [
  {
   "attachments": {
    "image-2.png": {
     "image/png": "[encoded data removed]"
    }
   },
   "cell_type": "markdown",
   "id": "05b61632",
   "metadata": {},
   "source": [
    "#\n",
    "#\n",
    "![image-2.png](attachment:image-2.png)\n",
    "\n",
    "  **FACULTAD DE INGENIERÍA**\\\n",
    "  **CARRERA DE INGENIERÍA INDUSTRIAL**\n",
    "  \n",
    "  **ASIGNATURA**: HERRAMIENTAS DE ANÁLISIS DE DATOS\\\n",
    "  **ÁREA**: ANÁLISIS DE DATOS Y OPTIMIZACIÓN DE PROCESOS\\\n",
    "  **PERÍODO ACADÉMICO**: 2024-1\n",
    "\n",
    "\n",
    "\n",
    "<center> <h2 style=\"font-size:18pt\">Cuaderno de Jupyter 05</h2> </center>"
   ]
  },
  {
   "cell_type": "markdown",
   "id": "65e4f6a3",
   "metadata": {},
   "source": [
    "## $\\color{green}{\\textbf{Caso: Información del Titanic}}$\n",
    "\n",
    "## $\\color{blue}{\\textbf{Variables incluidas en el Dataset}}$\n",
    "* $\\color{brown}{\\mbox{passengerId}}$ -> Id del pasajero.\n",
    "* $\\color{brown}{\\mbox{survived}}$ -> Indica si la persona sobrevivió o no al incidente. 0 = No, 1 = Si. \n",
    "* $\\color{brown}{\\mbox{pcclass}}$ -> Para indicar la clase en la que viajaba la persona. 1 = primera, 2 = segunda, 3 = tercera. \n",
    "* $\\color{brown}{\\mbox{name}}$ -> Nombre del pasajero, almacenado en String. \n",
    "* $\\color{brown}{\\mbox{sex}}$ -> Sexo del pasajero, male o famale. \n",
    "* $\\color{brown}{\\mbox{age}}$ -> Edad del pasajero, almacenado con enteros. \n",
    "* $\\color{brown}{\\mbox{sibsp}}$ -> Número de hermanos que el pasajero tenía a bordo. Almacenado en un entero. \n",
    "* $\\color{brown}{\\mbox{parch}}$ -> Número de padres (del pasajero) que estaban a bordo. Almacenados en un entero. \n",
    "* $\\color{brown}{\\mbox{ticket}}$ -> Número de ticket que el pasajero entregó al abordar. \n",
    "* $\\color{brown}{\\mbox{fare}}$ -> Indica el monto que el pasajero pago para obtener su boleto. Almacenado en un double. \n",
    "* $\\color{brown}{\\mbox{cabin}}$ -> Indica la cabina que fue asignada al pasajero, almacenada en un String. \n",
    "* $\\color{brown}{\\mbox{embarked}}$ -> Indica el puerto donde el pasajero abordo, C = cherbourg, Q = Queenstown, S= Southampton."
   ]
  },
  {
   "cell_type": "markdown",
   "id": "79c93863",
   "metadata": {},
   "source": [
    "## $\\color{blue}{\\textbf{Importando las bibliotecas}}$"
   ]
  },
  {
   "cell_type": "code",
   "execution_count": null,
   "id": "3a358f1f",
   "metadata": {},
   "outputs": [],
   "source": [
    "import pandas as pd               # importa la biblioteca pandas con alias pd.\n",
    "import matplotlib.pyplot as plt   # importa el módulo pylot de matplotlib con alias plt.\n",
    "import seaborn as sns             # importa biblioteca seaborn con alias sns.\n",
    "\n",
    "import numpy as np                # importa la librería numpy para usar np.nan\n",
    "import warnings\n",
    "#warnings.filterwarnings(\"ignore\", \"is_categorical_dtype\")\n",
    "#warnings.filterwarnings(\"ignore\", \"use_inf_as_na\")"
   ]
  },
  {
   "cell_type": "markdown",
   "id": "c3c07dd0",
   "metadata": {},
   "source": [
    "## $\\color{blue}{\\textbf{Configurando pandas.}}$"
   ]
  },
  {
   "cell_type": "code",
   "execution_count": null,
   "id": "cecb564a",
   "metadata": {},
   "outputs": [],
   "source": [
    "pd.options.display.max_rows=70      # se cambia el número máximo de filas a mostrar a 70. Con None se ven todas las filas.\n",
    "pd.options.display.max_columns=25   # se cambia el número máximo de columnas a 25.\n",
    "pd.options.display.max_colwidth=55  # se cambia el número máximo del ancho de columnas a 55.\n",
    "pd.options.display.precision=8      # se cambia el número máximo de decimales a 8."
   ]
  },
  {
   "cell_type": "markdown",
   "id": "3963a1f3",
   "metadata": {},
   "source": [
    "## $\\color{blue}{\\textbf{Carga el archivo titanic.xlsx.}}$"
   ]
  },
  {
   "cell_type": "code",
   "execution_count": null,
   "id": "5c720beb",
   "metadata": {},
   "outputs": [],
   "source": [
    "# Carga un archivo titanic.xlsx a un DataFrame de pandas .\n",
    "df=pd.read_excel('titanic.xlsx')"
   ]
  },
  {
   "cell_type": "markdown",
   "id": "aef583d8",
   "metadata": {},
   "source": [
    "## $\\color{blue}{\\textbf{Mostrando información del DataFrame.}}$"
   ]
  },
  {
   "cell_type": "code",
   "execution_count": null,
   "id": "9709257d",
   "metadata": {},
   "outputs": [],
   "source": [
    "# Proporciona un resumen conciso de un DataFrame, incluyendo información sobre las filas, las columnas, el tipo de datos de cada columna\n",
    "# y el uso de memoria. Nos da una visión rápida de la estructura del DataFrame y para verificar la presencia de valores nulos.\n",
    "df.info()"
   ]
  },
  {
   "cell_type": "markdown",
   "id": "6470062a",
   "metadata": {},
   "source": [
    "## $\\color{blue}{\\textbf{Mostrando estadísticas descriptivas de los datos numéricos.}}$"
   ]
  },
  {
   "cell_type": "code",
   "execution_count": null,
   "id": "4e15d611",
   "metadata": {},
   "outputs": [],
   "source": [
    "# muestra la información estadística del DatFrame. Estas métricas son útiles para obtener una visión \n",
    "# rápida de la distribución y dispersión de los datos en tu DataFrame.\n",
    "#   count: Número de valores no nulos.\n",
    "#   mean: Media aritmética.\n",
    "#   std: Desviación estándar.\n",
    "#   min: Valor mínimo.\n",
    "#   25%: Primer cuartil (percentil 25).\n",
    "#   50%: Segundo cuartil o Mediana (percentil 50).\n",
    "#   75%: Tercer cuartil (percentil 75).\n",
    "#   max: Valor máximo.\n",
    "\n",
    "df.describe()"
   ]
  },
  {
   "cell_type": "markdown",
   "id": "ea185384-5f35-47b7-964f-6cd5103c8471",
   "metadata": {},
   "source": [
    "## $\\color{blue}{\\textbf{Mostrando estadísticos por columna: }}$\n",
    "### $\\color{green}{\\textbf{mean(), std(), max(), min(), mode()[0].}}$"
   ]
  },
  {
   "cell_type": "code",
   "execution_count": null,
   "id": "c98289da-0e4b-4465-b732-2f094cc46ce3",
   "metadata": {},
   "outputs": [],
   "source": [
    "# mean(): Suma de todos los valores dividida por el número de valores.\n",
    "df.Age.mean()"
   ]
  },
  {
   "cell_type": "code",
   "execution_count": null,
   "id": "1948107e-27d7-49b6-9e22-30580b6d0e64",
   "metadata": {},
   "outputs": [],
   "source": [
    "# std(): medida de dispersión que indica cuánto se desvían los valores de un conjunto de datos respecto a su media. \n",
    "# Cuanto mayor es la desviación estándar, más dispersos están los datos; cuanto menor es, más cerca están los datos de la media.\n",
    "df.Age.std()"
   ]
  },
  {
   "cell_type": "code",
   "execution_count": null,
   "id": "941ccc1f-23b8-4f7f-9f0b-b12d8dc6d9c3",
   "metadata": {},
   "outputs": [],
   "source": [
    "# median(): Valor central que divide al conjunto de datos en dos partes iguales.\n",
    "df.Age.median()"
   ]
  },
  {
   "cell_type": "code",
   "execution_count": null,
   "id": "3cc61efb-3316-4ff1-9dcd-e18ddc3e55ae",
   "metadata": {},
   "outputs": [],
   "source": [
    "# mode()[0]; Valor que aparece con mayor frecuencia en el conjunto de datos.\n",
    "df.Age.mode()[0]"
   ]
  },
  {
   "cell_type": "code",
   "execution_count": null,
   "id": "31e4c24a-fe4a-4f5e-8224-cdbc76017672",
   "metadata": {},
   "outputs": [],
   "source": [
    "# max(): Valor mayor.\n",
    "df.Age.max()"
   ]
  },
  {
   "cell_type": "code",
   "execution_count": null,
   "id": "43423450-1691-4ac8-af94-342fae103594",
   "metadata": {},
   "outputs": [],
   "source": [
    "# min(): Valor mayor.\n",
    "df.Age.min()"
   ]
  },
  {
   "cell_type": "markdown",
   "id": "4380d06c",
   "metadata": {},
   "source": [
    "## $\\color{blue}{\\textbf{Mostrando partes del Dataframe con le método columna.isin()}}$"
   ]
  },
  {
   "cell_type": "code",
   "execution_count": null,
   "id": "db61cc98",
   "metadata": {},
   "outputs": [],
   "source": [
    "# muestra la información de la fila donde el valor de la columna Name es 'Kelly, Mr. James'\n",
    "df[df.Name.isin(['Kelly, Mr. James'])]          \n",
    "\n",
    "# equivale a:\n",
    "# df[df.Name=='Kelly, Mr. James']"
   ]
  },
  {
   "cell_type": "code",
   "execution_count": null,
   "id": "934ea48f",
   "metadata": {},
   "outputs": [],
   "source": [
    "# muestra la información de las filas donde el valor de la columna Cabin es 'C123'\n",
    "df[df.Cabin.isin(['C123'])]                    \n",
    "\n",
    "# equivale a:     \n",
    "# df[df.Cabin=='C123']"
   ]
  },
  {
   "cell_type": "code",
   "execution_count": null,
   "id": "36f01406",
   "metadata": {},
   "outputs": [],
   "source": [
    "# muestra la información de las filas donde los valores de la columna Age es 10 o 12\n",
    "df[df.Age.isin([10,12])]                        \n",
    "\n",
    "# equivale a:\n",
    "# df[(df.Age==10)||(df.Age==12)]"
   ]
  },
  {
   "cell_type": "code",
   "execution_count": null,
   "id": "5772a421",
   "metadata": {},
   "outputs": [],
   "source": [
    "# muestra la información de las filas donde el valor de la columna Embarked es un dato faltante(nan).\n",
    "# para indicar dato faltante se usa np.nan de numpy.\n",
    "df[df.Embarked.isin([np.nan])]             \n",
    "\n",
    "# no funciona:\n",
    "# df[df.Embarked==np.nan]\n",
    "\n",
    "# tampoco:\n",
    "# df[df.Embarked=='']"
   ]
  },
  {
   "cell_type": "code",
   "execution_count": null,
   "id": "930c808b",
   "metadata": {},
   "outputs": [],
   "source": [
    "# muestra la información de las filas donde 'peter' está incluido en el valor de la columna Name.\n",
    "# case=False ignora mayúsculas y minúcuulas.\n",
    "df[df.Name.str.contains('peter', case=False)]"
   ]
  },
  {
   "cell_type": "markdown",
   "id": "a5ac7f71",
   "metadata": {},
   "source": [
    "### $\\color{blue}{\\mbox{Ordenando el Dataframe}}$"
   ]
  },
  {
   "cell_type": "code",
   "execution_count": null,
   "id": "e2afc842",
   "metadata": {},
   "outputs": [],
   "source": [
    "# Muestra el DataFrame ordenado de menor a mayor por la columna Age.\n",
    "df.sort_values(['Age'])"
   ]
  },
  {
   "cell_type": "code",
   "execution_count": null,
   "id": "7239ac65",
   "metadata": {},
   "outputs": [],
   "source": [
    "# Muestra el DataFrame ordenado de mayor a menor por la columna Age.\n",
    "df.sort_values(['Age'],ascending=False)"
   ]
  },
  {
   "cell_type": "code",
   "execution_count": null,
   "id": "63310f53",
   "metadata": {},
   "outputs": [],
   "source": [
    "# Muestra el DataFrame ordenado primero por la columna Sex y luego la columna Age de menor a mayor.\n",
    "df.sort_values(['Sex','Age'])"
   ]
  },
  {
   "cell_type": "markdown",
   "id": "69156064",
   "metadata": {},
   "source": [
    "# $\\color{red}{\\textbf{Preprocesamiento:Limpieza de datos}}$\n",
    "\n",
    "La limpieza de datos significa corregir los datos incorrectos en su conjunto de datos."
   ]
  },
  {
   "cell_type": "markdown",
   "id": "bbf20c9c",
   "metadata": {},
   "source": [
    "## $\\color{blue}{\\textbf{Revisando si existen datos faltantes en el DataFrame}}$"
   ]
  },
  {
   "cell_type": "code",
   "execution_count": null,
   "id": "51f26982",
   "metadata": {},
   "outputs": [],
   "source": [
    "# muestra la tabla donde si hay datos faltantes se muestra True, caso contrario se muestra False.\n",
    "df.isnull()"
   ]
  },
  {
   "cell_type": "code",
   "execution_count": null,
   "id": "af64a9e8",
   "metadata": {},
   "outputs": [],
   "source": [
    "# muestra las columnas donde se encuentran los datos faltantes\n",
    "df.isnull().sum()"
   ]
  },
  {
   "cell_type": "code",
   "execution_count": null,
   "id": "1b1f40eb",
   "metadata": {},
   "outputs": [],
   "source": [
    "# Age tiene 177 datos faltantes\n",
    "df.Age.isnull().sum()"
   ]
  },
  {
   "cell_type": "code",
   "execution_count": null,
   "id": "4b11308d",
   "metadata": {},
   "outputs": [],
   "source": [
    "# Cabin tiene 687 datos faltantes\n",
    "df.Cabin.isnull().sum()"
   ]
  },
  {
   "cell_type": "code",
   "execution_count": null,
   "id": "1d25f5e7",
   "metadata": {},
   "outputs": [],
   "source": [
    "# Embarked tiene 2 datos faltantes\n",
    "df.Embarked.isnull().sum()"
   ]
  },
  {
   "cell_type": "code",
   "execution_count": null,
   "id": "ec6d2535-875e-413d-84b7-8857d2e05c6c",
   "metadata": {},
   "outputs": [],
   "source": [
    "# Fare tiene 8 datos faltantes\n",
    "df.Fare.isnull().sum()"
   ]
  },
  {
   "cell_type": "markdown",
   "id": "25cc0915",
   "metadata": {},
   "source": [
    "## $\\color{blue}{\\textbf{Método replace: reemplaza los datos faltantes por otros valores.}}$"
   ]
  },
  {
   "cell_type": "markdown",
   "id": "7b06c764-4db2-4b35-ab5b-712cab5b20c3",
   "metadata": {},
   "source": [
    "### $\\color{blue}{\\textbf{Columna: Age}}$"
   ]
  },
  {
   "cell_type": "code",
   "execution_count": null,
   "id": "61d1d9f7",
   "metadata": {},
   "outputs": [],
   "source": [
    "# muestra las filas donde la columna Age tiene datos faltantes.\n",
    "df[df.Age.isin([np.nan])]  "
   ]
  },
  {
   "cell_type": "code",
   "execution_count": null,
   "id": "79b40d0b",
   "metadata": {},
   "outputs": [],
   "source": [
    "# calculamos el promedio redondeado de la columna Age. \n",
    "prom_edad= round(df.Age.mean(),0)\n",
    "\n",
    "# muestra la edad promedio redondeada.\n",
    "prom_edad"
   ]
  },
  {
   "cell_type": "code",
   "execution_count": null,
   "id": "dd485fe1",
   "metadata": {},
   "outputs": [],
   "source": [
    "# parámetros:\n",
    "# np.nan: valor que será reemplazado.\n",
    "# prom_edad: valor que remplaza.\n",
    "# inplace: Si es False el DatFrame no se actualiza, si es True el DataFrame se actualiza.\n",
    "\n",
    "# reemplaza los valores faltantes de la columna Age por el promedio de edades.\n",
    "df.Age.replace(np.nan,prom_edad,inplace=True)"
   ]
  },
  {
   "cell_type": "code",
   "execution_count": null,
   "id": "c0747e58",
   "metadata": {},
   "outputs": [],
   "source": [
    "# mostramos si en la columna Age hay datos faltantes.\n",
    "df.Age.isnull().sum()"
   ]
  },
  {
   "cell_type": "markdown",
   "id": "58bd6d55-2c53-4227-ac58-422f572c001d",
   "metadata": {},
   "source": [
    "### $\\color{blue}{\\textbf{Columna: Embarked}}$"
   ]
  },
  {
   "cell_type": "code",
   "execution_count": null,
   "id": "1eb0a377",
   "metadata": {},
   "outputs": [],
   "source": [
    "# muestra las filas donde la columna Embarked tiene datos faltantes.\n",
    "df[df.Embarked.isin([np.nan])]  "
   ]
  },
  {
   "cell_type": "code",
   "execution_count": null,
   "id": "e4b20bb7",
   "metadata": {},
   "outputs": [],
   "source": [
    "# calculamos la moda de la columna Embarked entre S, Q y C. \n",
    "moda=df.Embarked.mode()[0]\n",
    "moda"
   ]
  },
  {
   "cell_type": "code",
   "execution_count": null,
   "id": "ab322023",
   "metadata": {},
   "outputs": [],
   "source": [
    "# parámetros:\n",
    "# np.nan: valor que será reemplazado.\n",
    "# moda: valor que remplaza.\n",
    "# inplace: Si es False el DatFrame no se actualiza, si es True el DataFrame se actualiza.\n",
    "\n",
    "# reemplaza los valores faltantes de la columna Embarked por la moda.\n",
    "df.Embarked.replace(np.nan,moda,inplace=True)"
   ]
  },
  {
   "cell_type": "code",
   "execution_count": null,
   "id": "dd64352e",
   "metadata": {},
   "outputs": [],
   "source": [
    "# mostramos si en la columna Embarked hay datos faltantes.\n",
    "df.Embarked.isnull().sum()"
   ]
  },
  {
   "cell_type": "markdown",
   "id": "e9d01eac-4d08-4353-9f5d-351e19531f87",
   "metadata": {},
   "source": [
    "### $\\color{blue}{\\textbf{Columna: Fare}}$"
   ]
  },
  {
   "cell_type": "code",
   "execution_count": null,
   "id": "e61edbd3-9d83-45c7-8833-1582458b887b",
   "metadata": {},
   "outputs": [],
   "source": [
    "# muestra las filas donde la columna Ticket tiene datos faltantes.\n",
    "df[df.Fare.isin([np.nan])]  "
   ]
  },
  {
   "cell_type": "code",
   "execution_count": null,
   "id": "f95230a6-06dd-4330-a99a-697b75f64fdf",
   "metadata": {},
   "outputs": [],
   "source": [
    "# calculamos la mediana para la columna Fare. \n",
    "mediana=df.Fare.median()\n",
    "mediana"
   ]
  },
  {
   "cell_type": "code",
   "execution_count": null,
   "id": "2a14f0a5-3c85-4123-860b-fc6e9740b776",
   "metadata": {},
   "outputs": [],
   "source": [
    "# parámetros:\n",
    "# np.nan: valor que será reemplazado.\n",
    "# mediana: valor que remplaza.\n",
    "# inplace: Si es False el DatFrame no se actualiza, si es True el DataFrame se actualiza.\n",
    "\n",
    "# reemplaza los valores faltantes de la columna Fare por la mediana.\n",
    "df.Fare.replace(np.nan,mediana,inplace=True)"
   ]
  },
  {
   "cell_type": "code",
   "execution_count": null,
   "id": "d7424a7c-5c52-4bdd-b626-65b1d68212be",
   "metadata": {},
   "outputs": [],
   "source": [
    "# mostramos si en la columna Fare hay datos faltantes.\n",
    "df.Fare.isnull().sum()"
   ]
  },
  {
   "cell_type": "markdown",
   "id": "b7227888",
   "metadata": {},
   "source": [
    "## $\\color{blue}{\\textbf{Método replace: remplaza los valores de una columna por otros valores. }}$"
   ]
  },
  {
   "cell_type": "code",
   "execution_count": null,
   "id": "5d6c77d5",
   "metadata": {},
   "outputs": [],
   "source": [
    "# parámetros:\n",
    "# ['female','male'] datos a cambiar en columna Sex.\n",
    "# [0,1] valores que reemplazan.\n",
    "# inplace: Si es False el DatFrame no se actualiza, si es True el DataFrame se actualiza.\n",
    "\n",
    "# cambiamos los datos categóricos de Sex ['female','male'] por datos numéricos [0,1].\n",
    "df.Sex.replace(['female','male'],[0,1],inplace=True)"
   ]
  },
  {
   "cell_type": "code",
   "execution_count": null,
   "id": "c73b1a7c",
   "metadata": {},
   "outputs": [],
   "source": [
    "# mostramos que se han realizado los reemplazos.\n",
    "df.head(5)"
   ]
  },
  {
   "cell_type": "code",
   "execution_count": null,
   "id": "ef29e637",
   "metadata": {},
   "outputs": [],
   "source": [
    "# cambiamos los datos categóricos de Embarked ['Q','S','C'] por datos numéricos [0,1,2].\n",
    "df.Embarked.replace(['Q','S','C'],[0,1,2],inplace=True)"
   ]
  },
  {
   "cell_type": "code",
   "execution_count": null,
   "id": "7c744209",
   "metadata": {},
   "outputs": [],
   "source": [
    "# mostramos que se han realizado los reemplazos.\n",
    "df.head(5)"
   ]
  },
  {
   "cell_type": "markdown",
   "id": "cd4bc095",
   "metadata": {},
   "source": [
    "## $\\color{blue}{\\textbf{Método drop: eliminar la columna o fila del DataFrame}}$"
   ]
  },
  {
   "cell_type": "code",
   "execution_count": null,
   "id": "0c671d67",
   "metadata": {},
   "outputs": [],
   "source": [
    "# eliminamos las columnas Cabin, PassengerId y Ticket que no tienen mucha información.\n",
    "# axis= 1 se refiere a las columnas mientras axis=0 se refiere a las filas.\n",
    "df.drop(['Cabin','PassengerId','Ticket'],axis=1,inplace=True)"
   ]
  },
  {
   "cell_type": "code",
   "execution_count": null,
   "id": "e7b74176",
   "metadata": {},
   "outputs": [],
   "source": [
    "# muestra el df sin las columnas Cabin, PassengerId y Ticket.\n",
    "df.head(5)"
   ]
  },
  {
   "cell_type": "code",
   "execution_count": null,
   "id": "a2c4b30a",
   "metadata": {},
   "outputs": [],
   "source": [
    "# eliminamos las filas 888 y 889 .\n",
    "df.drop([890,887],axis=0,inplace=True)"
   ]
  },
  {
   "cell_type": "code",
   "execution_count": null,
   "id": "904d1a0c",
   "metadata": {},
   "outputs": [],
   "source": [
    "# muestra el df sin las filas 888 y 889.\n",
    "df.tail(5)"
   ]
  },
  {
   "cell_type": "markdown",
   "id": "30c20bec",
   "metadata": {},
   "source": [
    "## $\\color{blue}{\\mbox{Método dropna: eliminar filas o columnas del DataFrame con datos faltantes}}$"
   ]
  },
  {
   "cell_type": "code",
   "execution_count": null,
   "id": "f3679197",
   "metadata": {},
   "outputs": [],
   "source": [
    "# parámetros:\n",
    "# axis : si es 1 elimina columna, si es 0 elimina fila.\n",
    "# inplace: Si es False el DatFrame no se actualiza, si es True el DataFrame se actualiza.\n",
    "# how: si es 'any' y si hay valores NA presentes, elimina la fila o la columna.\n",
    "#      si es 'all' y si todos los valores presentes son NA, elimina la fila o la columna.\n",
    "\n",
    "# Eliminamos las filas que contienen los datos faltantes.\n",
    "df.dropna(axis=0,how='any',inplace=True)  # con columna df.dropna(axis=1,how='any',inplace=True)"
   ]
  },
  {
   "cell_type": "code",
   "execution_count": null,
   "id": "025e9257",
   "metadata": {},
   "outputs": [],
   "source": [
    "# muestra si las columnas tienen datos faltantes\n",
    "df.isnull().sum()"
   ]
  },
  {
   "cell_type": "markdown",
   "id": "58bc124e",
   "metadata": {},
   "source": [
    "## $\\color{blue}{\\textbf{Método loc: Agrega columna al DataFrame de acuerdo a criterios.}}$"
   ]
  },
  {
   "cell_type": "code",
   "execution_count": null,
   "id": "5123b57a",
   "metadata": {},
   "outputs": [],
   "source": [
    "# crearemos una columna en base a la columna Age\n",
    "#  Age  ---->  Edad\n",
    "# [0, 11] ---->  0\n",
    "# [12,23] ---->  1\n",
    "# [24,35] ---->  2\n",
    "# [36,47] ---->  3\n",
    "# [48,59] ---->  4\n",
    "# [60,71] ---->  5\n",
    "# [72,83] ---->  6\n",
    "\n",
    "# creamos la columna\n",
    "df['Edad']=0\n",
    "\n",
    "# cambiamos los valores de la columna de acuerdo a criterios\n",
    "# df.loc(selección de filas, selección de columnas)=valor\n",
    "df.loc[(df.Age>=12)&(df.Age<=23),'Edad']=1\n",
    "df.loc[(df.Age>=24)&(df.Age<=35),'Edad']=2\n",
    "df.loc[(df.Age>=36)&(df.Age<=47),'Edad']=3\n",
    "df.loc[(df.Age>=48)&(df.Age<=59),'Edad']=4\n",
    "df.loc[(df.Age>=60)&(df.Age<=71),'Edad']=5\n",
    "df.loc[(df.Age>=72),'Edad']=6"
   ]
  },
  {
   "cell_type": "code",
   "execution_count": null,
   "id": "95d1cb72",
   "metadata": {},
   "outputs": [],
   "source": [
    "# mostrar el Dataframe con la nueva columna rango_edad\n",
    "df.head(5)"
   ]
  },
  {
   "cell_type": "code",
   "execution_count": null,
   "id": "f7608c98",
   "metadata": {},
   "outputs": [],
   "source": [
    "# hacemos lo mismo para la columna Fare\n",
    "# crearemos una columna en base a la columna Fare\n",
    "# que contenga la tarifa en forma categórica\n",
    "#  \n",
    "#  Fare   ---->    Tarifa\n",
    "#  <= 8    ---->    0\n",
    "# <8,15]   ---->    1\n",
    "# <15,31]  ---->    2\n",
    "#   >31    ---->    3\n",
    "# creamos la columna cat_tarifa con valores 0\n",
    "df['Tarifa']=0\n",
    "\n",
    "# cambiamos los valores de la columna tarifa con \n",
    "# df.loc(selección de filas, selección de columnas)=valor\n",
    "df.loc[(df.Fare>8) & (df.Fare<=15),'Tarifa']=1\n",
    "df.loc[(df.Fare>15) & (df.Fare<=31),'Tarifa']=2\n",
    "df.loc[(df.Fare>31),'Tarifa']=3"
   ]
  },
  {
   "cell_type": "code",
   "execution_count": null,
   "id": "59eef7e6",
   "metadata": {},
   "outputs": [],
   "source": [
    "# muestra las 5 primeras filas del df\n",
    "df.head(5)"
   ]
  },
  {
   "cell_type": "markdown",
   "id": "ea30f864",
   "metadata": {},
   "source": [
    "## $\\color{blue}{\\textbf{Mostrar histograma de frecuencia con hisplot.}}$"
   ]
  },
  {
   "cell_type": "code",
   "execution_count": null,
   "id": "f89208da",
   "metadata": {},
   "outputs": [],
   "source": [
    "#distribución de edades\n",
    "sns.histplot(x=df.Edad, \n",
    "             alpha=0.3,                \n",
    "             color='red')\n",
    "\n",
    "plt.title('Distribución de edades')   # título.\n",
    "plt.ylabel('Frecuencia')              # etiqueta del eje y.\n",
    "plt.xlabel('Edad')                    # etiqueta del eje x.\n",
    "\n",
    "plt.show()"
   ]
  },
  {
   "cell_type": "markdown",
   "id": "7cc4c77d",
   "metadata": {},
   "source": [
    "## $\\color{blue}{\\textbf{Grabar el DataFrame en un nuevo archivo de excel.}}$"
   ]
  },
  {
   "cell_type": "code",
   "execution_count": null,
   "id": "2957a051",
   "metadata": {},
   "outputs": [],
   "source": [
    "# Grabar el Dataframe en un archivo de Excel, que no grabe el índice de fila.\n",
    "df.to_excel('titanic2.xlsx',index=False)"
   ]
  },
  {
   "cell_type": "markdown",
   "id": "31502c5c",
   "metadata": {},
   "source": [
    "## $\\color{blue}{\\textbf{Abrir el nuevo archivo creado.}}$"
   ]
  },
  {
   "cell_type": "code",
   "execution_count": null,
   "id": "e8d234d6",
   "metadata": {},
   "outputs": [],
   "source": [
    "# Abrir el archivo titanic2.xlsx en un Dataframe.\n",
    "df1 = pd.read_excel('titanic2.xlsx')"
   ]
  },
  {
   "cell_type": "code",
   "execution_count": null,
   "id": "b4b986d2",
   "metadata": {},
   "outputs": [],
   "source": [
    "# mostrar el DataFrame.\n",
    "df1"
   ]
  },
  {
   "cell_type": "code",
   "execution_count": null,
   "id": "afbcad70",
   "metadata": {},
   "outputs": [],
   "source": []
  }
 ],
 "metadata": {
  "kernelspec": {
   "display_name": "Python 3 (ipykernel)",
   "language": "python",
   "name": "python3"
  },
  "language_info": {
   "codemirror_mode": {
    "name": "ipython",
    "version": 3
   },
   "file_extension": ".py",
   "mimetype": "text/x-python",
   "name": "python",
   "nbconvert_exporter": "python",
   "pygments_lexer": "ipython3",
   "version": "3.11.7"
  }
 },
 "nbformat": 4,
 "nbformat_minor": 5
}
